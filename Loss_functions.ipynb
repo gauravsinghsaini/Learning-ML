{
  "nbformat": 4,
  "nbformat_minor": 0,
  "metadata": {
    "colab": {
      "name": "Loss_functions.ipynb",
      "provenance": [],
      "collapsed_sections": [],
      "authorship_tag": "ABX9TyN54kUxEmqq+QPOR1ihBmg0",
      "include_colab_link": true
    },
    "kernelspec": {
      "name": "python3",
      "display_name": "Python 3"
    },
    "language_info": {
      "name": "python"
    }
  },
  "cells": [
    {
      "cell_type": "markdown",
      "metadata": {
        "id": "view-in-github",
        "colab_type": "text"
      },
      "source": [
        "<a href=\"https://colab.research.google.com/github/gauravsinghsaini/Learning-ML/blob/main/Loss_functions.ipynb\" target=\"_parent\"><img src=\"https://colab.research.google.com/assets/colab-badge.svg\" alt=\"Open In Colab\"/></a>"
      ]
    },
    {
      "cell_type": "code",
      "execution_count": null,
      "metadata": {
        "id": "365xNTRg7iQj"
      },
      "outputs": [],
      "source": [
        "import numpy as np"
      ]
    },
    {
      "cell_type": "code",
      "source": [
        "#MSME Loss\n",
        "def msme_loss(y_true,y_pred):     ##y_true & y_pred are arrays of same length, i.r numpy arrays\n",
        "  return((y_true - y_pred)**2) .mean()\n",
        "  \n"
      ],
      "metadata": {
        "id": "tNwR_PM573lg"
      },
      "execution_count": null,
      "outputs": []
    },
    {
      "cell_type": "code",
      "source": [
        "##to test\n",
        "y_true=np.array([0,1])\n",
        "y_pred=np.array([2,1])\n",
        "print(msme_loss(y_true,y_pred))"
      ],
      "metadata": {
        "id": "Vj9hpgoi8Wz2"
      },
      "execution_count": null,
      "outputs": []
    }
  ]
}