{
  "nbformat": 4,
  "nbformat_minor": 0,
  "metadata": {
    "colab": {
      "name": "Neural_Network.ipynb",
      "provenance": [],
      "collapsed_sections": [],
      "authorship_tag": "ABX9TyOnYnOOj2UqBcd82/nHvI12",
      "include_colab_link": true
    },
    "kernelspec": {
      "name": "python3",
      "display_name": "Python 3"
    },
    "language_info": {
      "name": "python"
    }
  },
  "cells": [
    {
      "cell_type": "markdown",
      "metadata": {
        "id": "view-in-github",
        "colab_type": "text"
      },
      "source": [
        "<a href=\"https://colab.research.google.com/github/gauravsinghsaini/Learning-ML/blob/main/Neural_Network.ipynb\" target=\"_parent\"><img src=\"https://colab.research.google.com/assets/colab-badge.svg\" alt=\"Open In Colab\"/></a>"
      ]
    },
    {
      "cell_type": "code",
      "execution_count": null,
      "metadata": {
        "id": "ZRSx-X5z57Cj"
      },
      "outputs": [],
      "source": [
        "#use neuron created in prebious commit"
      ]
    },
    {
      "cell_type": "code",
      "source": [
        "import numpy as np"
      ],
      "metadata": {
        "id": "lq3EXPh16xF3"
      },
      "execution_count": null,
      "outputs": []
    },
    {
      "cell_type": "code",
      "source": [
        "class NeuralNetwork:\n",
        "  def __init__(self):\n",
        "    weights=np.array([0,1])\n",
        "    bias=0\n",
        "    self.h1= Neuron(weights,bias)\n",
        "    self.h2=Neuron(weights,bias)\n",
        "    self.o1=Neuron(weights,bias)\n",
        "\n",
        "  def feedforward(self,x):\n",
        "    out_h1=self.h1.feedforward(x)\n",
        "    out_h2=self.h2.feedforward(x)\n",
        "\n",
        "    out_o1=self.o1.feedforward(np.array([out_h1,out_h2]))\n",
        "\n",
        "    return out_o1"
      ],
      "metadata": {
        "id": "LbAbw2B-5-uY"
      },
      "execution_count": null,
      "outputs": []
    },
    {
      "cell_type": "code",
      "source": [
        "network=NeuralNetwork()"
      ],
      "metadata": {
        "id": "Ztpkmm6p6_vf"
      },
      "execution_count": null,
      "outputs": []
    },
    {
      "cell_type": "code",
      "source": [
        "x=np.array([3,4])\n",
        "print(network.feedforward(x))"
      ],
      "metadata": {
        "id": "yxfU0hvu7Ldf"
      },
      "execution_count": null,
      "outputs": []
    },
    {
      "cell_type": "code",
      "source": [
        ""
      ],
      "metadata": {
        "id": "sahYh8dv7PTG"
      },
      "execution_count": null,
      "outputs": []
    }
  ]
}