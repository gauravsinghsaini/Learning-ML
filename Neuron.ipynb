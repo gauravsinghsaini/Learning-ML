{
  "nbformat": 4,
  "nbformat_minor": 0,
  "metadata": {
    "colab": {
      "name": "Neuron.ipynb",
      "provenance": [],
      "collapsed_sections": [],
      "authorship_tag": "ABX9TyNGhF9yctTHmwsSYZy16K1W",
      "include_colab_link": true
    },
    "kernelspec": {
      "name": "python3",
      "display_name": "Python 3"
    },
    "language_info": {
      "name": "python"
    }
  },
  "cells": [
    {
      "cell_type": "markdown",
      "metadata": {
        "id": "view-in-github",
        "colab_type": "text"
      },
      "source": [
        "<a href=\"https://colab.research.google.com/github/gauravsinghsaini/Learning-ML/blob/main/Neuron.ipynb\" target=\"_parent\"><img src=\"https://colab.research.google.com/assets/colab-badge.svg\" alt=\"Open In Colab\"/></a>"
      ]
    },
    {
      "cell_type": "code",
      "execution_count": null,
      "metadata": {
        "id": "Zhddi4hF4GfN"
      },
      "outputs": [],
      "source": [
        "import numpy as np"
      ]
    },
    {
      "cell_type": "code",
      "source": [
        "class Neuron:\n",
        "  def __init__(self,weights,bias):\n",
        "    self.weights=weights\n",
        "    self.bias=bias\n",
        "  def feedforward(self,inputs):\n",
        "    output=np.dot(self.weights.inputs)+self.bias\n",
        "    return activation_func(output)                ##define activation_func prior i.e,sigmoid,relu,etc.\n",
        "\n"
      ],
      "metadata": {
        "id": "dgrj5u3U4QQg"
      },
      "execution_count": null,
      "outputs": []
    },
    {
      "cell_type": "code",
      "source": [
        "#define weights amnd bias\n",
        "weights=np.array([0,1])\n",
        "bias=0\n"
      ],
      "metadata": {
        "id": "V2NfJ0Yv4zCp"
      },
      "execution_count": null,
      "outputs": []
    },
    {
      "cell_type": "code",
      "source": [
        "n=Neuron(weights,bias)"
      ],
      "metadata": {
        "id": "kyrzKrch5Bg_"
      },
      "execution_count": null,
      "outputs": []
    },
    {
      "cell_type": "code",
      "source": [
        "x=np.array([2,3])\n",
        "print(n.feedforward)"
      ],
      "metadata": {
        "id": "MR5io1Kk5Gcv"
      },
      "execution_count": null,
      "outputs": []
    }
  ]
}